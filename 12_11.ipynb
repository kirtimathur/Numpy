{
 "cells": [
  {
   "cell_type": "code",
   "execution_count": 1,
   "id": "43e15a1d",
   "metadata": {},
   "outputs": [
    {
     "name": "stdout",
     "output_type": "stream",
     "text": [
      "[10.          6.          1.42857143  3.33333333]\n"
     ]
    }
   ],
   "source": [
    "import numpy as np #np--shortname---np is the alice of numpy\n",
    "d1=np.array([400,300,100,200])\n",
    "sp1=np.array([40,50,70,60])\n",
    "print(d1/sp1) #array performs element wise operation"
   ]
  },
  {
   "cell_type": "code",
   "execution_count": 2,
   "id": "9c3f9ec9",
   "metadata": {},
   "outputs": [
    {
     "name": "stdout",
     "output_type": "stream",
     "text": [
      "856 bytes is of list\n",
      "4\n",
      "400 bytes is of array\n"
     ]
    }
   ],
   "source": [
    "import sys\n",
    "l=list(range(100))\n",
    "a=np.arange(100)\n",
    "print(sys.getsizeof(l),\"bytes is of list\") #sys.getsizeof(l): size of each element in the \n",
    "print(a.itemsize)\n",
    "print(a.size*a.itemsize,\"bytes is of array\")  #itemsize: size of each element in the array"
   ]
  },
  {
   "cell_type": "code",
   "execution_count": 3,
   "id": "2e39d46f",
   "metadata": {},
   "outputs": [
    {
     "name": "stdout",
     "output_type": "stream",
     "text": [
      "(2, 2, 3)\n",
      "[7 8 9]\n",
      "[[ 8  9]\n",
      " [11 12]]\n"
     ]
    }
   ],
   "source": [
    "import numpy as np \n",
    "arr = np.array([[[1, 2, 3], [4, 5, 6]] , [[7, 8, 9], [10, 11, 12]]])\n",
    "print(np.shape(arr))\n",
    "print(arr[1][0])\n",
    "print(arr[1][:,1:3]) #8,9,11,12"
   ]
  },
  {
   "cell_type": "code",
   "execution_count": null,
   "id": "ba1fdd98",
   "metadata": {},
   "outputs": [],
   "source": []
  }
 ],
 "metadata": {
  "kernelspec": {
   "display_name": "Python 3 (ipykernel)",
   "language": "python",
   "name": "python3"
  },
  "language_info": {
   "codemirror_mode": {
    "name": "ipython",
    "version": 3
   },
   "file_extension": ".py",
   "mimetype": "text/x-python",
   "name": "python",
   "nbconvert_exporter": "python",
   "pygments_lexer": "ipython3",
   "version": "3.9.12"
  }
 },
 "nbformat": 4,
 "nbformat_minor": 5
}
