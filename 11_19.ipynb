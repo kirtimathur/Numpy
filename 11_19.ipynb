{
 
 "cells": [
  {
   "cell_type": "code",
   "execution_count": 1,
   "id": "421775a1",
   "metadata": {},
   "outputs": [
    {
     "data": {
      "text/plain": [
       "matrix([[3., 3.],\n",
       "        [3., 3.],\n",
       "        [3., 3.],\n",
       "        [3., 3.],\n",
       "        [3., 3.]])"
      ]
     },
     "execution_count": 1,
     "metadata": {},
     "output_type": "execute_result"
    }
   ],
   "source": [
    "#q.12 Multiply a 5x3 matrix by a 3x2 matrix (real matrix product)\n",
    "import numpy as np\n",
    "k1=np.ones((5,3))\n",
    "k11=np.mat(k1)\n",
    "type(k11)\n",
    "k2=np.ones((3,2))\n",
    "k22=np.mat(k2)\n",
    "k11*k22"
   ]
  },
  {
   "cell_type": "code",
   "execution_count": 2,
   "id": "5e2b8d2d",
   "metadata": {},
   "outputs": [
    {
     "name": "stdout",
     "output_type": "stream",
     "text": [
      "[11 12  5  6 11]\n"
     ]
    },
    {
     "data": {
      "text/plain": [
       "array([121, 144,  25,  36, 121])"
      ]
     },
     "execution_count": 2,
     "metadata": {},
     "output_type": "execute_result"
    }
   ],
   "source": [
    "#q.13 create a 1D array, square all elements which are greater than 3\n",
    "a=np.random.randint(1,15,5)\n",
    "print(a)\n",
    "k=np.where(a>3,a**2,a)\n",
    "k"
   ]
  },
  {
   "cell_type": "code",
   "execution_count": 4,
   "id": "d371e952",
   "metadata": {},
   "outputs": [
    {
     "data": {
      "text/plain": [
       "array([64, 13, 75, 89, 59,  8, 71,  6, 87, 19])"
      ]
     },
     "execution_count": 4,
     "metadata": {},
     "output_type": "execute_result"
    }
   ],
   "source": [
    "#q.14 Extract the integer part of a random array of positive numbers using different methods\n",
    "#hint: %, np.floor, astype, np.trunc\n",
    "\n",
    "a=np.random.uniform(1,100,10)\n",
    "np.floor(a)\n",
    "a1=a.astype(\"int\")\n",
    "a1"
   ]
  },
  {
   "cell_type": "code",
   "execution_count": 5,
   "id": "c16fa785",
   "metadata": {},
   "outputs": [
    {
     "name": "stdout",
     "output_type": "stream",
     "text": [
      "Original array:\n",
      "[[0. 0. 0. 0. 0.]\n",
      " [0. 0. 0. 0. 0.]\n",
      " [0. 0. 0. 0. 0.]\n",
      " [0. 0. 0. 0. 0.]\n",
      " [0. 0. 0. 0. 0.]]\n",
      "Row values ranging from 0 to 4.\n",
      "[[0. 1. 2. 3. 4.]\n",
      " [0. 1. 2. 3. 4.]\n",
      " [0. 1. 2. 3. 4.]\n",
      " [0. 1. 2. 3. 4.]\n",
      " [0. 1. 2. 3. 4.]]\n"
     ]
    }
   ],
   "source": [
    "#q.15 Create a 5x5 matrix with row values ranging from 0 to 4\n",
    "x = np.zeros((5,5))\n",
    "print(\"Original array:\")\n",
    "print(x)\n",
    "print(\"Row values ranging from 0 to 4.\")\n",
    "x += np.arange(5)   # broadcasting \n",
    "print(x)\n"
   ]
  },
  {
   "cell_type": "code",
   "execution_count": null,
   "id": "3b511b4f",
   "metadata": {},
   "outputs": [],
   "source": []
  }
 ],
 "metadata": {
  "kernelspec": {
   "display_name": "Python 3 (ipykernel)",
   "language": "python",
   "name": "python3"
  },
  "language_info": {
   "codemirror_mode": {
    "name": "ipython",
    "version": 3
   },
   "file_extension": ".py",
   "mimetype": "text/x-python",
   "name": "python",
   "nbconvert_exporter": "python",
   "pygments_lexer": "ipython3",
   "version": "3.9.12"
  }
 },
 "nbformat": 4,
 "nbformat_minor": 5
}
