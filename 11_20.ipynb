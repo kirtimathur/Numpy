{
 "cells": [
  {
   
   "cell_type": "code",
   "execution_count": 1,
   "id": "dacf1703",
   "metadata": {},
   "outputs": [
    {
     "name": "stdout",
     "output_type": "stream",
     "text": [
      "[0.1 0.2 0.3 0.4 0.5 0.6 0.7 0.8 0.9 1. ]\n"
     ]
    }
   ],
   "source": [
    "#q.16 Create a vector of size 10 with values ranging from 0 to 1, both excluded\n",
    "import numpy as np\n",
    "a=np.linspace(0.1,1,10)\n",
    "print(a)\n"
   ]
  },
  {
   "cell_type": "code",
   "execution_count": 2,
   "id": "282b57a0",
   "metadata": {},
   "outputs": [
    {
     "name": "stdout",
     "output_type": "stream",
     "text": [
      "the array is :\n",
      " [0.21378107 0.57854421 0.84932906 0.87518849 0.42598784 0.38268063\n",
      " 0.35576819 0.09380364 0.77487995 0.50567982 0.03816136] \n",
      "\n",
      "the max element is  0.875188490823188 at index number  3\n",
      "the array is replaced with 0 at index 2 with new value\n",
      "  [0.21378107 0.57854421 0.84932906 0.         0.42598784 0.38268063\n",
      " 0.35576819 0.09380364 0.77487995 0.50567982 0.03816136]\n"
     ]
    }
   ],
   "source": [
    "#q.17 Create random vector of size 10 and replace the maximum value by 0\n",
    "import numpy as np\n",
    "a=np.random.rand(11)\n",
    "print(\"the array is :\\n\",a,\"\\n\")\n",
    "print(\"the max element is \",np.max(a), \"at index number \",np.argmax(a))\n",
    "a[np.argmax(a)]=0\n",
    "print(\"the array is replaced with 0 at index\",np.argmax(a),\"with new value\\n \",a)\n"
   ]
  },
  {
   "cell_type": "code",
   "execution_count": null,
   "id": "01bca7e6",
   "metadata": {},
   "outputs": [],
   "source": []
  }
 ],
 "metadata": {
  "kernelspec": {
   "display_name": "Python 3 (ipykernel)",
   "language": "python",
   "name": "python3"
  },
  "language_info": {
   "codemirror_mode": {
    "name": "ipython",
    "version": 3
   },
   "file_extension": ".py",
   "mimetype": "text/x-python",
   "name": "python",
   "nbconvert_exporter": "python",
   "pygments_lexer": "ipython3",
   "version": "3.9.12"
  }
 },
 "nbformat": 4,
 "nbformat_minor": 5
}
