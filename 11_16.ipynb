{
 "cells": [
  {
   "cell_type": "code",
   "execution_count": 2,
   "id": "71fc0ba5",
   "metadata": {},
   "outputs": [
    {
     "data": {
      "text/plain": [
       "array([0, 0, 0, 0, 1, 0, 0, 0, 0, 0])"
      ]
     },
     "execution_count": 2,
     "metadata": {},
     "output_type": "execute_result"
    }
   ],
   "source": [
    "import numpy as np\n",
    "#q.3\n",
    "#a) Create a null vector of size 10 but the fifth value which is 1\n",
    "\n",
    "v=np.zeros(10,dtype=int) #np.zeros(10,) comma as row and col not judged\n",
    "v[4]=1\n",
    "v"
   ]
  },
  {
   "cell_type": "code",
   "execution_count": 3,
   "id": "0e9cd4d2",
   "metadata": {},
   "outputs": [
    {
     "name": "stdout",
     "output_type": "stream",
     "text": [
      "[0 1 2 3 4 5 6 7 8 9]\n",
      "reversed: [9 1 2 3 4 5 6 7 8 0]\n"
     ]
    }
   ],
   "source": [
    "#b)Reverse a vector (first element becomes last)\n",
    "v=np.arange(10)\n",
    "print(v)\n",
    "first=v[0]\n",
    "v[0]=v[9]\n",
    "v[9]=first\n",
    "print(\"reversed:\",v)"
   ]
  },
  {
   "cell_type": "code",
   "execution_count": 4,
   "id": "6af64d53",
   "metadata": {},
   "outputs": [
    {
     "name": "stdout",
     "output_type": "stream",
     "text": [
      "sorted: [0 8 7 6 5 4 3 2 1 9]\n",
      "[0 1 2 3 4 5 6 7 8 9]\n"
     ]
    }
   ],
   "source": [
    "#c) sort it.\n",
    "print(\"sorted:\",v[-1::-1])\n",
    "print(np.sort(v))"
   ]
  },
  {
   "cell_type": "code",
   "execution_count": null,
   "id": "96464544",
   "metadata": {},
   "outputs": [],
   "source": []
  }
 ],
 "metadata": {
  "kernelspec": {
   "display_name": "Python 3 (ipykernel)",
   "language": "python",
   "name": "python3"
  },
  "language_info": {
   "codemirror_mode": {
    "name": "ipython",
    "version": 3
   },
   "file_extension": ".py",
   "mimetype": "text/x-python",
   "name": "python",
   "nbconvert_exporter": "python",
   "pygments_lexer": "ipython3",
   "version": "3.9.12"
  }
 },
 "nbformat": 4,
 "nbformat_minor": 5
}
