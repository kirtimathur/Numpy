{
 "cells": [
  {
   
   "cell_type": "code",
   "execution_count": 2,
   "id": "ca3c2975",
   "metadata": {},
   "outputs": [
    {
     "name": "stdout",
     "output_type": "stream",
     "text": [
      "[[1 1 1 1 1]\n",
      " [1 0 0 0 1]\n",
      " [1 0 9 0 1]\n",
      " [1 0 0 0 1]\n",
      " [1 1 1 1 1]]\n"
     ]
    }
   ],
   "source": [
    "import numpy as np\n",
    "'''q.4 Create an array as :\n",
    "[[1,1,1,1,1],[1,0,0,0,1],[1,0,9,0,1],[1,0,0,0,1],[1,1,1,1,1]]\n",
    "\n",
    "note : don not use np.array direct.'''\n",
    "a=np.ones((5,5),dtype=int)\n",
    "#print(a)\n",
    "#print(a[0],a[1],a[2],a[3],a[4])\n",
    "for i in range(1,4):\n",
    "    a[1][i]=0\n",
    "    a[3][i]=0\n",
    "    a[2][i]=0\n",
    "    a[2][2]=9\n",
    "print(a)"
   ]
  },
  {
   "cell_type": "code",
   "execution_count": 3,
   "id": "7db3bd7d",
   "metadata": {},
   "outputs": [
    {
     "data": {
      "text/plain": [
       "matrix([[0, 1, 2],\n",
       "        [4, 3, 5],\n",
       "        [6, 7, 8]])"
      ]
     },
     "execution_count": 3,
     "metadata": {},
     "output_type": "execute_result"
    }
   ],
   "source": [
    "#q.5 Create a 3x3 matrix with values ranging from 0 to 8\n",
    "a=np.mat([[0,1,2],[4,3,5],[6,7,8]])\n",
    "a"
   ]
  },
  {
   "cell_type": "code",
   "execution_count": 4,
   "id": "d2128966",
   "metadata": {},
   "outputs": [
    {
     "data": {
      "text/plain": [
       "matrix([[0, 1, 2],\n",
       "        [3, 4, 5],\n",
       "        [6, 7, 8]])"
      ]
     },
     "execution_count": 4,
     "metadata": {},
     "output_type": "execute_result"
    }
   ],
   "source": [
    "a=np.arange(0,9)\n",
    "np.mat(a).reshape(3,3)"
   ]
  },
  {
   "cell_type": "code",
   "execution_count": 6,
   "id": "75c65ab6",
   "metadata": {},
   "outputs": [
    {
     "name": "stdout",
     "output_type": "stream",
     "text": [
      "[1 2 0 0 4 0]\n"
     ]
    },
    {
     "data": {
      "text/plain": [
       "(array([0, 1, 4], dtype=int64),)"
      ]
     },
     "execution_count": 6,
     "metadata": {},
     "output_type": "execute_result"
    }
   ],
   "source": [
    "#q.6 Find indices of non-zero elements from [1,2,0,0,4,0]\n",
    "a=np.array([1,2,0,0,4,0])\n",
    "print(a)\n",
    "np.where(a>0)"
   ]
  },
  {
   "cell_type": "code",
   "execution_count": 7,
   "id": "2f89330f",
   "metadata": {},
   "outputs": [
    {
     "name": "stdout",
     "output_type": "stream",
     "text": [
      "[[ 87.19898043   5.18524637 109.93249558  87.06447852  84.07356042\n",
      "   66.0669642   40.92972681 123.85419327  59.93093473  53.36545502]\n",
      " [124.22676655 105.82841886  26.91598907 102.71562425  36.88797313\n",
      "  157.06702956 170.79505853  98.84736748 169.31229707  15.9290954 ]\n",
      " [101.04921802  13.05730088  85.62446552  19.30618313  25.43199434\n",
      "  119.3490618   45.20240012  21.38913686  44.06124141  69.965257  ]\n",
      " [ 93.55749692  40.34864525 128.08134504  96.61396711 101.047344\n",
      "   77.37853022 158.72749089 116.00083578  32.4597197  140.15046932]\n",
      " [192.91021602 100.00167223 177.90401279  68.32273053 113.42882553\n",
      "   85.50919266  87.34945261 155.311837   107.1208347  190.74844539]\n",
      " [108.84163203  16.41898446  73.26848034 170.1701008   81.25500861\n",
      "    5.44047318  49.4354478   13.42887415 198.77040228 194.11606268]\n",
      " [160.05167023 120.36342428 152.99197209  33.84508932  58.60464636\n",
      "  104.81337506  71.32485622   9.13579305 196.63068907  88.27098387]\n",
      " [100.80008788  64.70826351  51.94895055  77.37797706 166.40337993\n",
      "  147.34941126  75.84211339   2.60346734 159.48098781  53.87775952]\n",
      " [116.53697771   5.11018837 132.44040385  77.50468517  99.41475975\n",
      "   82.98116747  70.17438026 110.19558106 194.58213797  22.55524305]\n",
      " [ 62.65170569   8.35954196 147.67995172 131.50247753  42.92714928\n",
      "   83.35068804 128.76838683 132.29626534  34.0954267  176.33044715]]\n"
     ]
    }
   ],
   "source": [
    "#Q.7 Create a 10x10 array with random values and find the minimum and maximum values\n",
    "np.random.seed(2)\n",
    "a=np.random.uniform(0,200,100).reshape(10,10)\n",
    "print(a)"
   ]
  },
  {
   "cell_type": "code",
   "execution_count": null,
   "id": "6f8229bd",
   "metadata": {},
   "outputs": [],
   "source": []
  }
 ],
 "metadata": {
  "kernelspec": {
   "display_name": "Python 3 (ipykernel)",
   "language": "python",
   "name": "python3"
  },
  "language_info": {
   "codemirror_mode": {
    "name": "ipython",
    "version": 3
   },
   "file_extension": ".py",
   "mimetype": "text/x-python",
   "name": "python",
   "nbconvert_exporter": "python",
   "pygments_lexer": "ipython3",
   "version": "3.9.12"
  }
 },
 "nbformat": 4,
 "nbformat_minor": 5
}
