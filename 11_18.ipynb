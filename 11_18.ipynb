{
 "cells": [
  {
   "cell_type": "code",
   "execution_count": 1,
   "id": "98030acf",
   "metadata": {},
   "outputs": [
    {
     "name": "stdout",
     "output_type": "stream",
     "text": [
      "random vector is \n",
      "\n",
      " [35 45 42 67 76  8 93 53 40 82 77 10  9 56 97 75 67 42 10 71 59 28 44 27\n",
      " 94 48 46 51 66 82]\n",
      "the mean of this vector is :\n",
      "\n",
      " 53.333333333333336\n"
     ]
    }
   ],
   "source": [
    "#q.8 Create a random vector of size 30 and find the mean value\n",
    "import numpy as np\n",
    "random_vector=np.random.randint(1,100,30)\n",
    "print(\"random vector is \\n\\n\",random_vector)\n",
    "print(\"the mean of this vector is :\\n\\n\",np.mean(random_vector))\n"
   ]
  },
  {
   "cell_type": "code",
   "execution_count": 2,
   "id": "94f5e0d4",
   "metadata": {},
   "outputs": [
    {
     "name": "stdout",
     "output_type": "stream",
     "text": [
      "[[1. 1. 1. 1. 1. 1.]\n",
      " [1. 0. 0. 0. 0. 1.]\n",
      " [1. 0. 0. 0. 0. 1.]\n",
      " [1. 0. 0. 0. 0. 1.]\n",
      " [1. 0. 0. 0. 0. 1.]\n",
      " [1. 1. 1. 1. 1. 1.]]\n"
     ]
    }
   ],
   "source": [
    "#q.9 Create a 2dimensional array of size with 1 on the border and 0 inside\n",
    "import numpy as np\n",
    "Z = np.ones((6,6))\n",
    "Z[1:-1,1:-1] = 0\n",
    "print(Z)"
   ]
  },
  {
   "cell_type": "code",
   "execution_count": 3,
   "id": "11fa5823",
   "metadata": {},
   "outputs": [
    {
     "name": "stdout",
     "output_type": "stream",
     "text": [
      "[[1. 1. 1. 1. 1. 1.]\n",
      " [1. 1. 1. 1. 1. 1.]\n",
      " [1. 1. 1. 1. 1. 1.]\n",
      " [1. 1. 1. 1. 1. 1.]\n",
      " [1. 1. 1. 1. 1. 1.]\n",
      " [1. 1. 1. 1. 1. 1.]]\n",
      "array with border filled with zeros\n",
      " [[0. 0. 0. 0. 0. 0.]\n",
      " [0. 1. 1. 1. 1. 0.]\n",
      " [0. 1. 1. 1. 1. 0.]\n",
      " [0. 1. 1. 1. 1. 0.]\n",
      " [0. 1. 1. 1. 1. 0.]\n",
      " [0. 0. 0. 0. 0. 0.]]\n"
     ]
    }
   ],
   "source": [
    "#q.10 How to add a border (filled with 0's) around an existing array?\n",
    "import numpy as np\n",
    "zero_arr=np.ones((6,6))\n",
    "print(zero_arr)\n",
    "zero_arr\n",
    "zero_arr[:,0]=0\n",
    "zero_arr[:,-1]=0\n",
    "zero_arr[0,1:-1]=0\n",
    "zero_arr[-1,1:-1]=0\n",
    "print(\"array with border filled with zeros\\n\",zero_arr)"
   ]
  },
  {
   "cell_type": "code",
   "execution_count": 4,
   "id": "5e1b8178",
   "metadata": {},
   "outputs": [
    {
     "name": "stdout",
     "output_type": "stream",
     "text": [
      "[[0 0 0 0 0]\n",
      " [1 0 0 0 0]\n",
      " [0 2 0 0 0]\n",
      " [0 0 3 0 0]\n",
      " [0 0 0 4 0]]\n"
     ]
    }
   ],
   "source": [
    "#q.11 Create a 5x5 matrix with values 1,2,3,4 just below the main diagonal\n",
    "import numpy as np\n",
    "m1=np.diag([1,2,3,4],k=-1)\n",
    "print(m1)"
   ]
  },
  {
   "cell_type": "code",
   "execution_count": null,
   "id": "151f7de2",
   "metadata": {},
   "outputs": [],
   "source": []
  }
 ],
 "metadata": {
  "kernelspec": {
   "display_name": "Python 3 (ipykernel)",
   "language": "python",
   "name": "python3"
  },
  "language_info": {
   "codemirror_mode": {
    "name": "ipython",
    "version": 3
   },
   "file_extension": ".py",
   "mimetype": "text/x-python",
   "name": "python",
   "nbconvert_exporter": "python",
   "pygments_lexer": "ipython3",
   "version": "3.9.12"
  }
 },
 "nbformat": 4,
 "nbformat_minor": 5
}
